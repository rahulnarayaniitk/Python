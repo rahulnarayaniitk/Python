{
  "nbformat": 4,
  "nbformat_minor": 0,
  "metadata": {
    "colab": {
      "provenance": [],
      "authorship_tag": "ABX9TyN2kSFRw0lUg/Z8bMtRpDi7",
      "include_colab_link": true
    },
    "kernelspec": {
      "name": "python3",
      "display_name": "Python 3"
    },
    "language_info": {
      "name": "python"
    }
  },
  "cells": [
    {
      "cell_type": "markdown",
      "metadata": {
        "id": "view-in-github",
        "colab_type": "text"
      },
      "source": [
        "<a href=\"https://colab.research.google.com/github/rahulnarayaniitk/Python/blob/main/PythonNotes.ipynb\" target=\"_parent\"><img src=\"https://colab.research.google.com/assets/colab-badge.svg\" alt=\"Open In Colab\"/></a>"
      ]
    },
    {
      "cell_type": "markdown",
      "source": [
        "# **Introduction to Python**"
      ],
      "metadata": {
        "id": "HCsxsIHyCPfT"
      }
    },
    {
      "cell_type": "code",
      "source": [
        "print(\"Welcome to google colab\")"
      ],
      "metadata": {
        "id": "eJcQitfKCVse",
        "colab": {
          "base_uri": "https://localhost:8080/"
        },
        "outputId": "05cfa762-3914-4e7c-ab98-83864fb5976d"
      },
      "execution_count": 116,
      "outputs": [
        {
          "output_type": "stream",
          "name": "stdout",
          "text": [
            "Welcome to google colab\n"
          ]
        }
      ]
    },
    {
      "cell_type": "code",
      "source": [
        "print(5)"
      ],
      "metadata": {
        "colab": {
          "base_uri": "https://localhost:8080/"
        },
        "id": "uSEOckHRCpCw",
        "outputId": "5bca8c98-cdec-4c03-82f2-cb824dc440e7"
      },
      "execution_count": 117,
      "outputs": [
        {
          "output_type": "stream",
          "name": "stdout",
          "text": [
            "5\n"
          ]
        }
      ]
    },
    {
      "cell_type": "code",
      "source": [
        "# print(Hi Rahul)\n",
        "# This is an error since does not contain the string within (\" \")"
      ],
      "metadata": {
        "id": "myG7Or5NCq_3"
      },
      "execution_count": 118,
      "outputs": []
    },
    {
      "cell_type": "markdown",
      "source": [
        "## **Variables**"
      ],
      "metadata": {
        "id": "O6ix9zVXDVm1"
      }
    },
    {
      "cell_type": "code",
      "source": [
        "name = \"Rahul\"\n",
        "print(name)"
      ],
      "metadata": {
        "colab": {
          "base_uri": "https://localhost:8080/"
        },
        "id": "g9_FFkZdDXtV",
        "outputId": "1a2a7131-601e-41be-c34e-5033a9b5fb17"
      },
      "execution_count": 119,
      "outputs": [
        {
          "output_type": "stream",
          "name": "stdout",
          "text": [
            "Rahul\n"
          ]
        }
      ]
    },
    {
      "cell_type": "code",
      "source": [
        "# take input from user\n",
        "name = input(\"Enter your name: \")\n",
        "print(\"Welcome!\",name) # In the print statement, when you use commas to separate values, Python automatically adds a space between them."
      ],
      "metadata": {
        "colab": {
          "base_uri": "https://localhost:8080/"
        },
        "id": "Ec6Lk4otDbVs",
        "outputId": "d1e04b47-a09a-47cc-b8e7-2d49635c1cce"
      },
      "execution_count": 122,
      "outputs": [
        {
          "output_type": "stream",
          "name": "stdout",
          "text": [
            "Enter your name: Rahul\n",
            "Welcome! Rahul\n"
          ]
        }
      ]
    },
    {
      "cell_type": "code",
      "source": [
        "age = input(\"Enter your age: \")\n",
        "print(\"you are\", age*12 ,\"months old\")"
      ],
      "metadata": {
        "id": "mz47eWiiDthH",
        "colab": {
          "base_uri": "https://localhost:8080/"
        },
        "outputId": "c8e58b07-1377-4a4f-ee90-f6cb354349ee"
      },
      "execution_count": 123,
      "outputs": [
        {
          "output_type": "stream",
          "name": "stdout",
          "text": [
            "Enter your age: 12\n",
            "you are  121212121212121212121212 months old\n"
          ]
        }
      ]
    },
    {
      "cell_type": "code",
      "source": [
        "# it means that the input function takes only strings as input\n",
        "# so for integer input we need to do typecasting\n",
        "age = int(input(\"Enter your age: \"))\n",
        "print(\"you are\", age*12, \"months old\")"
      ],
      "metadata": {
        "colab": {
          "base_uri": "https://localhost:8080/"
        },
        "id": "EuD1JN88ELbT",
        "outputId": "f4a51d38-6ee4-41a8-8262-828c36560d9a"
      },
      "execution_count": 124,
      "outputs": [
        {
          "output_type": "stream",
          "name": "stdout",
          "text": [
            "Enter your age: 12\n",
            "you are  144 months old\n"
          ]
        }
      ]
    },
    {
      "cell_type": "code",
      "source": [
        "num = 1\n",
        "decimal = 1.1\n",
        "string = 'Mike'\n",
        "boolean = True\n",
        "print(type(num))\n",
        "\n",
        "print(type(decimal))\n",
        "print(type(string))\n",
        "print(type(boolean))"
      ],
      "metadata": {
        "id": "wden1FzMEpv8",
        "colab": {
          "base_uri": "https://localhost:8080/"
        },
        "outputId": "f66fb199-f27f-4d30-a47d-27638e8acb96"
      },
      "execution_count": 125,
      "outputs": [
        {
          "output_type": "stream",
          "name": "stdout",
          "text": [
            "<class 'int'>\n",
            "<class 'float'>\n",
            "<class 'str'>\n",
            "<class 'bool'>\n"
          ]
        }
      ]
    },
    {
      "cell_type": "markdown",
      "source": [
        "## **Arithmetic Operations**"
      ],
      "metadata": {
        "id": "bOSGh7GMFHrw"
      }
    },
    {
      "cell_type": "code",
      "source": [
        "a = 5\n",
        "b = 8\n",
        "print(\"Addition \", a+b)\n",
        "print(\"Subtraction \", a-b)\n",
        "print(\"Multiplication \", a*b)\n",
        "print(\"Division \", a/b)\n",
        "print(\"Floor Division \", a//b)\n",
        "print(\"Modulus or Remainder \",a%b)\n",
        "print(\"Exponential \", a**b)"
      ],
      "metadata": {
        "id": "7RZGr6utFNw5",
        "colab": {
          "base_uri": "https://localhost:8080/"
        },
        "outputId": "dfd238ba-b8b3-4ae4-82ef-671710378b9c"
      },
      "execution_count": 128,
      "outputs": [
        {
          "output_type": "stream",
          "name": "stdout",
          "text": [
            "Addition  13\n",
            "Subtraction  -3\n",
            "Multiplication  40\n",
            "Division  0.625\n",
            "Floor Division  0\n",
            "Modulus or Remainder  5\n",
            "Exponential  390625\n"
          ]
        }
      ]
    },
    {
      "cell_type": "code",
      "source": [
        "# Order of precedence : PEMDAS\n",
        "print((5*6)-7+8/4)"
      ],
      "metadata": {
        "id": "YTx-hFOvF7n5",
        "colab": {
          "base_uri": "https://localhost:8080/"
        },
        "outputId": "4e3d1b80-dc54-4257-87e9-a044e8a33c52"
      },
      "execution_count": 129,
      "outputs": [
        {
          "output_type": "stream",
          "name": "stdout",
          "text": [
            "25.0\n"
          ]
        }
      ]
    },
    {
      "cell_type": "markdown",
      "source": [
        "## **String Operations**"
      ],
      "metadata": {
        "id": "VLDJuuDCHSdA"
      }
    },
    {
      "cell_type": "code",
      "source": [
        "c = 'z'\n",
        "d = 'Mike'\n",
        "e = \"John\"\n",
        "print(c, d, e)"
      ],
      "metadata": {
        "id": "oH0iJ5jeHX2a",
        "colab": {
          "base_uri": "https://localhost:8080/"
        },
        "outputId": "7e87a110-cd32-4a91-f06f-764f99082dcb"
      },
      "execution_count": 132,
      "outputs": [
        {
          "output_type": "stream",
          "name": "stdout",
          "text": [
            "z Mike John\n"
          ]
        }
      ]
    },
    {
      "cell_type": "code",
      "source": [
        "# print('I didn't do this')\n",
        "print('I didn\\'t do this')\n",
        "print(\"I didn't do this\")"
      ],
      "metadata": {
        "id": "LF4f4FwtHpfr",
        "colab": {
          "base_uri": "https://localhost:8080/"
        },
        "outputId": "47b52ea7-5348-4019-8a88-3966c20ab9b5"
      },
      "execution_count": 133,
      "outputs": [
        {
          "output_type": "stream",
          "name": "stdout",
          "text": [
            "I didn't do this\n",
            "I didn't do this\n"
          ]
        }
      ]
    },
    {
      "cell_type": "markdown",
      "source": [
        "### **String manipulations**"
      ],
      "metadata": {
        "id": "-Ss1TrpqH_hM"
      }
    },
    {
      "source": [
        "string = \"There are lies, damned lies, and statistics. - Mark Twain\"\n",
        "len(string)"
      ],
      "cell_type": "code",
      "metadata": {
        "id": "JPPRVFuwLXOx",
        "colab": {
          "base_uri": "https://localhost:8080/"
        },
        "outputId": "43b3fd51-1e0f-457e-ebc2-4f531f6d49bd"
      },
      "execution_count": 134,
      "outputs": [
        {
          "output_type": "execute_result",
          "data": {
            "text/plain": [
              "57"
            ]
          },
          "metadata": {},
          "execution_count": 134
        }
      ]
    },
    {
      "cell_type": "code",
      "source": [
        "# first character\n",
        "string[0]"
      ],
      "metadata": {
        "id": "tdTkZLWAITti",
        "colab": {
          "base_uri": "https://localhost:8080/",
          "height": 35
        },
        "outputId": "7a1867b6-f964-4c14-d126-2d853a19bf31"
      },
      "execution_count": 135,
      "outputs": [
        {
          "output_type": "execute_result",
          "data": {
            "text/plain": [
              "'T'"
            ],
            "application/vnd.google.colaboratory.intrinsic+json": {
              "type": "string"
            }
          },
          "metadata": {},
          "execution_count": 135
        }
      ]
    },
    {
      "cell_type": "code",
      "source": [
        "# Last Character\n",
        "print(string[len(string)-1])\n",
        "print(string[-1])"
      ],
      "metadata": {
        "id": "2hG7BnBZImoo",
        "colab": {
          "base_uri": "https://localhost:8080/"
        },
        "outputId": "e47e7210-7d2f-41cc-809e-c275212216d8"
      },
      "execution_count": 136,
      "outputs": [
        {
          "output_type": "stream",
          "name": "stdout",
          "text": [
            "n\n",
            "n\n"
          ]
        }
      ]
    },
    {
      "cell_type": "code",
      "source": [
        "# String does not support item assignment i.e.\n",
        "# we can't change the characters of a string."
      ],
      "metadata": {
        "id": "v-7i0tMPJjny"
      },
      "execution_count": 137,
      "outputs": []
    },
    {
      "cell_type": "markdown",
      "source": [
        "### **Slicing in strings**"
      ],
      "metadata": {
        "id": "-TEPmzrrMHtv"
      }
    },
    {
      "cell_type": "code",
      "source": [
        "string = \"There are lies, damned lies, and statistics. - Mark Twain\"\n",
        "sliced_string = string[0:45]\n",
        "print(sliced_string)"
      ],
      "metadata": {
        "id": "l5tr74yiMLHq",
        "colab": {
          "base_uri": "https://localhost:8080/"
        },
        "outputId": "1b150ea0-8d20-4475-d5ad-6deaa7467199"
      },
      "execution_count": 138,
      "outputs": [
        {
          "output_type": "stream",
          "name": "stdout",
          "text": [
            "There are lies, damned lies, and statistics. \n"
          ]
        }
      ]
    },
    {
      "cell_type": "markdown",
      "source": [
        "#### Membership\n",
        "- In Python, membership operators are used to test whether a value is a member of a sequence (such as a string, list, or tuple). There are two membership operators: 'in' and 'not in'.\n",
        "\n",
        "- The 'in' operator checks if a value exists in the given sequence.\n",
        "\n",
        "- The 'not in' operator checks if a value does not exist in the given sequence.\n",
        "\n"
      ],
      "metadata": {
        "id": "VLtOWw-UprmB"
      }
    },
    {
      "cell_type": "code",
      "source": [
        "# Membership\n",
        "string = \"Lasagna for lunch\"\n",
        "print('Pizza' in string)\n",
        "print('fries' not in string)"
      ],
      "metadata": {
        "id": "2JhGswgjMTlM",
        "colab": {
          "base_uri": "https://localhost:8080/"
        },
        "outputId": "e8dbeb82-cafb-4f58-890b-463c2784d9c0"
      },
      "execution_count": 139,
      "outputs": [
        {
          "output_type": "stream",
          "name": "stdout",
          "text": [
            "False\n",
            "True\n"
          ]
        }
      ]
    },
    {
      "cell_type": "markdown",
      "source": [
        "### **String methods**"
      ],
      "metadata": {
        "id": "hqpwnbVfM-5y"
      }
    },
    {
      "cell_type": "code",
      "source": [
        "small = \"lasagna for lunch\"\n",
        "print(small.upper())"
      ],
      "metadata": {
        "id": "OFqh45RfNBJu",
        "colab": {
          "base_uri": "https://localhost:8080/"
        },
        "outputId": "5d3906be-628e-4501-ec45-5afd2a7444f7"
      },
      "execution_count": 141,
      "outputs": [
        {
          "output_type": "stream",
          "name": "stdout",
          "text": [
            "LASAGNA FOR LUNCH\n"
          ]
        }
      ]
    },
    {
      "cell_type": "code",
      "source": [
        "upper = \"LASAGNA FOR LUNCH\"\n",
        "print(upper.lower())"
      ],
      "metadata": {
        "id": "lfN25VxIUcUr",
        "colab": {
          "base_uri": "https://localhost:8080/"
        },
        "outputId": "0a6dd3b3-b242-4c5e-b1cb-7f7d1d5a783e"
      },
      "execution_count": 142,
      "outputs": [
        {
          "output_type": "stream",
          "name": "stdout",
          "text": [
            "lasagna for lunch\n"
          ]
        }
      ]
    },
    {
      "cell_type": "code",
      "source": [
        "string = \"Lasagna for lunch!        \"\n",
        "print(string)\n",
        "print(string.rstrip())"
      ],
      "metadata": {
        "id": "KH5h81PyUk0J",
        "colab": {
          "base_uri": "https://localhost:8080/"
        },
        "outputId": "4a51eba0-0593-436d-d439-83b6dba92be2"
      },
      "execution_count": 24,
      "outputs": [
        {
          "output_type": "stream",
          "name": "stdout",
          "text": [
            "Lasagna for lunch!        \n",
            "Lasagna for lunch!\n"
          ]
        }
      ]
    },
    {
      "cell_type": "code",
      "source": [
        "string = \"      Lasagna for lunch!\"\n",
        "print(string)\n",
        "print(string.lstrip())"
      ],
      "metadata": {
        "id": "ZbEzRCY1UtiG",
        "colab": {
          "base_uri": "https://localhost:8080/"
        },
        "outputId": "821bbae1-1211-4d3f-dd0b-c934ec49af4a"
      },
      "execution_count": 25,
      "outputs": [
        {
          "output_type": "stream",
          "name": "stdout",
          "text": [
            "      Lasagna for lunch!\n",
            "Lasagna for lunch!\n"
          ]
        }
      ]
    },
    {
      "cell_type": "code",
      "source": [
        "string = \"   Lasagna for lunch.   \"\n",
        "print(string)\n",
        "print(string.strip())"
      ],
      "metadata": {
        "id": "0PUoULBoU2Kj",
        "colab": {
          "base_uri": "https://localhost:8080/"
        },
        "outputId": "12ea7d71-c302-4ab6-cf38-c037864c0b07"
      },
      "execution_count": 26,
      "outputs": [
        {
          "output_type": "stream",
          "name": "stdout",
          "text": [
            "   Lasagna for lunch.   \n",
            "Lasagna for lunch.\n"
          ]
        }
      ]
    },
    {
      "cell_type": "code",
      "source": [
        "string = \"******Lasagna for lunch!####\"\n",
        "print(string)\n",
        "print(string.rstrip('#').lstrip('*'))"
      ],
      "metadata": {
        "id": "egAKySBYVCX7",
        "colab": {
          "base_uri": "https://localhost:8080/"
        },
        "outputId": "e2665706-b1ac-478b-c93c-fad4c1e02b47"
      },
      "execution_count": 27,
      "outputs": [
        {
          "output_type": "stream",
          "name": "stdout",
          "text": [
            "******Lasagna for lunch!####\n",
            "Lasagna for lunch!\n"
          ]
        }
      ]
    },
    {
      "cell_type": "code",
      "source": [
        "# help(str)"
      ],
      "metadata": {
        "id": "uS6XL8NyVSbC"
      },
      "execution_count": 28,
      "outputs": []
    },
    {
      "cell_type": "code",
      "source": [
        "print(string.count('a'))"
      ],
      "metadata": {
        "id": "ATxb5tHFVfcN",
        "colab": {
          "base_uri": "https://localhost:8080/"
        },
        "outputId": "7a2f8aba-298b-4f2d-8e4b-14528996c565"
      },
      "execution_count": 143,
      "outputs": [
        {
          "output_type": "stream",
          "name": "stdout",
          "text": [
            "3\n"
          ]
        }
      ]
    },
    {
      "cell_type": "markdown",
      "source": [
        "## **Control Structures and Function**"
      ],
      "metadata": {
        "id": "WQyHGMYxV10O"
      }
    },
    {
      "cell_type": "markdown",
      "source": [
        "### **If statements**"
      ],
      "metadata": {
        "id": "kL8IEAg8V9gd"
      }
    },
    {
      "cell_type": "markdown",
      "source": [
        "### **Relational Operators**"
      ],
      "metadata": {
        "id": "FhA_E81dWJZR"
      }
    },
    {
      "cell_type": "code",
      "source": [
        "10 == 10"
      ],
      "metadata": {
        "id": "x7RZs8mKWTz6",
        "colab": {
          "base_uri": "https://localhost:8080/"
        },
        "outputId": "9039ba94-89b8-4f0d-ef1d-8668491e9259"
      },
      "execution_count": 144,
      "outputs": [
        {
          "output_type": "execute_result",
          "data": {
            "text/plain": [
              "True"
            ]
          },
          "metadata": {},
          "execution_count": 144
        }
      ]
    },
    {
      "cell_type": "code",
      "source": [
        "10 == 5"
      ],
      "metadata": {
        "id": "SW4LkPMTWcwa",
        "colab": {
          "base_uri": "https://localhost:8080/"
        },
        "outputId": "8f029902-bfc8-46ad-c9c4-3e3de0bc8ba9"
      },
      "execution_count": 145,
      "outputs": [
        {
          "output_type": "execute_result",
          "data": {
            "text/plain": [
              "False"
            ]
          },
          "metadata": {},
          "execution_count": 145
        }
      ]
    },
    {
      "cell_type": "code",
      "source": [
        "10!=2"
      ],
      "metadata": {
        "id": "fGLdcCW_Wd4m",
        "colab": {
          "base_uri": "https://localhost:8080/"
        },
        "outputId": "0a78403e-5f5b-40a2-bf82-e57bf4d2b559"
      },
      "execution_count": 146,
      "outputs": [
        {
          "output_type": "execute_result",
          "data": {
            "text/plain": [
              "True"
            ]
          },
          "metadata": {},
          "execution_count": 146
        }
      ]
    },
    {
      "cell_type": "code",
      "source": [
        "10 >5"
      ],
      "metadata": {
        "id": "UlpbVuvmWgjU",
        "colab": {
          "base_uri": "https://localhost:8080/"
        },
        "outputId": "9a4911ae-4ba2-40da-dd19-1875667671eb"
      },
      "execution_count": 147,
      "outputs": [
        {
          "output_type": "execute_result",
          "data": {
            "text/plain": [
              "True"
            ]
          },
          "metadata": {},
          "execution_count": 147
        }
      ]
    },
    {
      "cell_type": "code",
      "source": [
        "10<5"
      ],
      "metadata": {
        "id": "2ZF92DEMWjMW",
        "colab": {
          "base_uri": "https://localhost:8080/"
        },
        "outputId": "5bfdeeaf-e536-4625-b5e0-48947992ee21"
      },
      "execution_count": 148,
      "outputs": [
        {
          "output_type": "execute_result",
          "data": {
            "text/plain": [
              "False"
            ]
          },
          "metadata": {},
          "execution_count": 148
        }
      ]
    },
    {
      "cell_type": "code",
      "source": [
        "10>=5"
      ],
      "metadata": {
        "id": "k4YBPJ9rWliJ",
        "colab": {
          "base_uri": "https://localhost:8080/"
        },
        "outputId": "eca0d9ac-6c0c-484c-c1b4-aaf119bf2029"
      },
      "execution_count": 149,
      "outputs": [
        {
          "output_type": "execute_result",
          "data": {
            "text/plain": [
              "True"
            ]
          },
          "metadata": {},
          "execution_count": 149
        }
      ]
    },
    {
      "cell_type": "code",
      "source": [
        "10<=5"
      ],
      "metadata": {
        "id": "7GFqGcgGWm59",
        "colab": {
          "base_uri": "https://localhost:8080/"
        },
        "outputId": "792aac50-6ae8-4b02-dd90-39949ec633fd"
      },
      "execution_count": 150,
      "outputs": [
        {
          "output_type": "execute_result",
          "data": {
            "text/plain": [
              "False"
            ]
          },
          "metadata": {},
          "execution_count": 150
        }
      ]
    },
    {
      "cell_type": "markdown",
      "source": [
        "### **Decision making**"
      ],
      "metadata": {
        "id": "UyiTuUkmWq8w"
      }
    },
    {
      "cell_type": "code",
      "source": [
        "# Write a program to check whether a variable x has value 90 or not\n",
        "x =45\n",
        "if x<90 :\n",
        "  print(x, \" is less than 90\")\n",
        "elif x==90 :\n",
        "  print(x,\" is equal to 90\")\n",
        "else:\n",
        "  print(x, \" is more than 90\")"
      ],
      "metadata": {
        "colab": {
          "base_uri": "https://localhost:8080/"
        },
        "id": "LkaPqtojWtY0",
        "outputId": "3fe7fb17-36ae-4e1a-a757-080d81ae3ed0"
      },
      "execution_count": 151,
      "outputs": [
        {
          "output_type": "stream",
          "name": "stdout",
          "text": [
            "45  is less than 90\n"
          ]
        }
      ]
    },
    {
      "cell_type": "markdown",
      "source": [
        "### **Loops and iterations**"
      ],
      "metadata": {
        "id": "q-WTGBSGodsq"
      }
    },
    {
      "cell_type": "code",
      "source": [
        "# Password check\n",
        "password = input(\"Enter the password: \")\n",
        "attempt = 1\n",
        "while password != '1234':\n",
        "  print(\"Invalid password! Please try again\")\n",
        "  password = input(\"Enter the password: \")\n",
        "print(\"Your are authenticated!\")"
      ],
      "metadata": {
        "colab": {
          "base_uri": "https://localhost:8080/"
        },
        "id": "SPZhNcQPXAt6",
        "outputId": "2bc22021-2e0a-4b3f-8dbe-ab942afaeb53"
      },
      "execution_count": 152,
      "outputs": [
        {
          "output_type": "stream",
          "name": "stdout",
          "text": [
            "Enter the password: 1234\n",
            "Your are authenticated!\n"
          ]
        }
      ]
    },
    {
      "cell_type": "code",
      "source": [
        "#The sys module in Python provides access to some variables used or maintained by the Python interpreter\n",
        "# and functions that interact strongly with the interpreter. One common use of the 'sys' module\n",
        "# is to access and manipulate the command line arguments.\n",
        "\n",
        "import sys\n",
        "password = input(\"Enter the password: \")\n",
        "attempt = 1\n",
        "while password != '1234':\n",
        "  if attempt >= 3:\n",
        "    sys.exit(\"Too many invalid attempts\") # error\n",
        "  print(\"Invalid password! Please try again\")\n",
        "  password = input(\"Enter the password: \")\n",
        "  attempt +=1\n",
        "print(\"Your are authenticated!\")\n"
      ],
      "metadata": {
        "id": "gcKOS2IopEVt",
        "colab": {
          "base_uri": "https://localhost:8080/"
        },
        "outputId": "ecedef7d-8a30-4383-8693-d94584ca115f"
      },
      "execution_count": 153,
      "outputs": [
        {
          "output_type": "stream",
          "name": "stdout",
          "text": [
            "Enter the password: 1234\n",
            "Your are authenticated!\n"
          ]
        }
      ]
    },
    {
      "cell_type": "code",
      "source": [
        "# iterate over a list of integers\n",
        "l = [1,3,4,6,7,9]\n",
        "for i in l:\n",
        "  print(i)"
      ],
      "metadata": {
        "id": "MVKtYvFZqG_i",
        "colab": {
          "base_uri": "https://localhost:8080/"
        },
        "outputId": "2f409fcf-35d7-4697-bddf-b8dfaeed8006"
      },
      "execution_count": 154,
      "outputs": [
        {
          "output_type": "stream",
          "name": "stdout",
          "text": [
            "1\n",
            "3\n",
            "4\n",
            "6\n",
            "7\n",
            "9\n"
          ]
        }
      ]
    },
    {
      "cell_type": "code",
      "source": [
        "# iterate in strings\n",
        "string=\"New Delhi\"\n",
        "for ch in string:\n",
        "  print(ch)         # By default it is like print(ch, end = \"\\n\")"
      ],
      "metadata": {
        "id": "oIj59NrWxAS4",
        "colab": {
          "base_uri": "https://localhost:8080/"
        },
        "outputId": "49af608b-7420-4c06-d6cb-ac1829fdd976"
      },
      "execution_count": 157,
      "outputs": [
        {
          "output_type": "stream",
          "name": "stdout",
          "text": [
            "N\n",
            "e\n",
            "w\n",
            " \n",
            "D\n",
            "e\n",
            "l\n",
            "h\n",
            "i\n"
          ]
        }
      ]
    },
    {
      "cell_type": "code",
      "source": [
        "# iterate in strings\n",
        "string=\"New Delhi\"\n",
        "for ch in string:\n",
        "  print(ch, end = \"\") #\\n"
      ],
      "metadata": {
        "id": "ZCiOTZGyxHYr",
        "colab": {
          "base_uri": "https://localhost:8080/"
        },
        "outputId": "5cbb0f24-6c01-476b-dec8-396ff0754ad6"
      },
      "execution_count": 158,
      "outputs": [
        {
          "output_type": "stream",
          "name": "stdout",
          "text": [
            "New Delhi"
          ]
        }
      ]
    },
    {
      "cell_type": "code",
      "source": [
        "# iterate over dictionary\n",
        "students = {1:[\"Sam\", 25], 2:[\"Jack\", 23], 3:[\"Trump\", 27]}\n",
        "for key,val in students.items():\n",
        "  print(key, val)"
      ],
      "metadata": {
        "id": "QdHlRn8nxXcI",
        "colab": {
          "base_uri": "https://localhost:8080/"
        },
        "outputId": "83fece64-4e4c-45ed-dab1-bd8cb50c1517"
      },
      "execution_count": 159,
      "outputs": [
        {
          "output_type": "stream",
          "name": "stdout",
          "text": [
            "1 ['Sam', 25]\n",
            "2 ['Jack', 23]\n",
            "3 ['Trump', 27]\n"
          ]
        }
      ]
    },
    {
      "cell_type": "code",
      "source": [
        "for key in students.keys():\n",
        "  print(key)"
      ],
      "metadata": {
        "id": "tm7yzuDzxy7z",
        "colab": {
          "base_uri": "https://localhost:8080/"
        },
        "outputId": "ce0e601a-9d40-4f4f-e0b4-dce900c52d8f"
      },
      "execution_count": 163,
      "outputs": [
        {
          "output_type": "stream",
          "name": "stdout",
          "text": [
            "1\n",
            "2\n",
            "3\n"
          ]
        }
      ]
    },
    {
      "cell_type": "code",
      "source": [
        "range(1,101)"
      ],
      "metadata": {
        "id": "585QC1Ycx9FI",
        "colab": {
          "base_uri": "https://localhost:8080/"
        },
        "outputId": "d72b4560-2f27-449e-a884-ae071328f923"
      },
      "execution_count": 164,
      "outputs": [
        {
          "output_type": "execute_result",
          "data": {
            "text/plain": [
              "range(1, 101)"
            ]
          },
          "metadata": {},
          "execution_count": 164
        }
      ]
    },
    {
      "cell_type": "code",
      "source": [
        "l = list(range(1,101))\n",
        "l"
      ],
      "metadata": {
        "id": "O4TVihxoyA5q",
        "colab": {
          "base_uri": "https://localhost:8080/"
        },
        "outputId": "66993fa5-52e2-4ef8-8a62-e66012a97020"
      },
      "execution_count": 165,
      "outputs": [
        {
          "output_type": "execute_result",
          "data": {
            "text/plain": [
              "[1,\n",
              " 2,\n",
              " 3,\n",
              " 4,\n",
              " 5,\n",
              " 6,\n",
              " 7,\n",
              " 8,\n",
              " 9,\n",
              " 10,\n",
              " 11,\n",
              " 12,\n",
              " 13,\n",
              " 14,\n",
              " 15,\n",
              " 16,\n",
              " 17,\n",
              " 18,\n",
              " 19,\n",
              " 20,\n",
              " 21,\n",
              " 22,\n",
              " 23,\n",
              " 24,\n",
              " 25,\n",
              " 26,\n",
              " 27,\n",
              " 28,\n",
              " 29,\n",
              " 30,\n",
              " 31,\n",
              " 32,\n",
              " 33,\n",
              " 34,\n",
              " 35,\n",
              " 36,\n",
              " 37,\n",
              " 38,\n",
              " 39,\n",
              " 40,\n",
              " 41,\n",
              " 42,\n",
              " 43,\n",
              " 44,\n",
              " 45,\n",
              " 46,\n",
              " 47,\n",
              " 48,\n",
              " 49,\n",
              " 50,\n",
              " 51,\n",
              " 52,\n",
              " 53,\n",
              " 54,\n",
              " 55,\n",
              " 56,\n",
              " 57,\n",
              " 58,\n",
              " 59,\n",
              " 60,\n",
              " 61,\n",
              " 62,\n",
              " 63,\n",
              " 64,\n",
              " 65,\n",
              " 66,\n",
              " 67,\n",
              " 68,\n",
              " 69,\n",
              " 70,\n",
              " 71,\n",
              " 72,\n",
              " 73,\n",
              " 74,\n",
              " 75,\n",
              " 76,\n",
              " 77,\n",
              " 78,\n",
              " 79,\n",
              " 80,\n",
              " 81,\n",
              " 82,\n",
              " 83,\n",
              " 84,\n",
              " 85,\n",
              " 86,\n",
              " 87,\n",
              " 88,\n",
              " 89,\n",
              " 90,\n",
              " 91,\n",
              " 92,\n",
              " 93,\n",
              " 94,\n",
              " 95,\n",
              " 96,\n",
              " 97,\n",
              " 98,\n",
              " 99,\n",
              " 100]"
            ]
          },
          "metadata": {},
          "execution_count": 165
        }
      ]
    },
    {
      "cell_type": "code",
      "source": [
        "\n",
        "# iterate over range\n",
        "for i in range(1,101):\n",
        "  print(i, end=\" \")"
      ],
      "metadata": {
        "id": "dlud8_hyyEJN",
        "colab": {
          "base_uri": "https://localhost:8080/"
        },
        "outputId": "7961dce3-98d8-4865-9921-3868c5f453a5"
      },
      "execution_count": 167,
      "outputs": [
        {
          "output_type": "stream",
          "name": "stdout",
          "text": [
            "1 2 3 4 5 6 7 8 9 10 11 12 13 14 15 16 17 18 19 20 21 22 23 24 25 26 27 28 29 30 31 32 33 34 35 36 37 38 39 40 41 42 43 44 45 46 47 48 49 50 51 52 53 54 55 56 57 58 59 60 61 62 63 64 65 66 67 68 69 70 71 72 73 74 75 76 77 78 79 80 81 82 83 84 85 86 87 88 89 90 91 92 93 94 95 96 97 98 99 100 "
          ]
        }
      ]
    },
    {
      "cell_type": "code",
      "source": [
        "print(list(range(1,100,2)))\n",
        "print(list(range(100,0,-1)))"
      ],
      "metadata": {
        "id": "HeFgF1vyyTTG",
        "colab": {
          "base_uri": "https://localhost:8080/"
        },
        "outputId": "bfd13df0-7216-4535-89a2-90d90c4e48c1"
      },
      "execution_count": 168,
      "outputs": [
        {
          "output_type": "stream",
          "name": "stdout",
          "text": [
            "[1, 3, 5, 7, 9, 11, 13, 15, 17, 19, 21, 23, 25, 27, 29, 31, 33, 35, 37, 39, 41, 43, 45, 47, 49, 51, 53, 55, 57, 59, 61, 63, 65, 67, 69, 71, 73, 75, 77, 79, 81, 83, 85, 87, 89, 91, 93, 95, 97, 99]\n",
            "[100, 99, 98, 97, 96, 95, 94, 93, 92, 91, 90, 89, 88, 87, 86, 85, 84, 83, 82, 81, 80, 79, 78, 77, 76, 75, 74, 73, 72, 71, 70, 69, 68, 67, 66, 65, 64, 63, 62, 61, 60, 59, 58, 57, 56, 55, 54, 53, 52, 51, 50, 49, 48, 47, 46, 45, 44, 43, 42, 41, 40, 39, 38, 37, 36, 35, 34, 33, 32, 31, 30, 29, 28, 27, 26, 25, 24, 23, 22, 21, 20, 19, 18, 17, 16, 15, 14, 13, 12, 11, 10, 9, 8, 7, 6, 5, 4, 3, 2, 1]\n"
          ]
        }
      ]
    },
    {
      "cell_type": "code",
      "source": [
        "# Program to print prime numbers between 1 to 20\n",
        "import math\n",
        "for n in range(2,101):\n",
        "  flag = True\n",
        "  for i in range(2,int(math.sqrt(n)) + 1):\n",
        "    if n%i==0:\n",
        "      flag=False\n",
        "      break\n",
        "  if flag:\n",
        "    print(n)"
      ],
      "metadata": {
        "id": "et0KluCxyZTm",
        "colab": {
          "base_uri": "https://localhost:8080/"
        },
        "outputId": "8c4100fd-9a23-47b0-b901-054f7f6352c1"
      },
      "execution_count": 174,
      "outputs": [
        {
          "output_type": "stream",
          "name": "stdout",
          "text": [
            "2\n",
            "3\n",
            "5\n",
            "7\n",
            "11\n",
            "13\n",
            "17\n",
            "19\n",
            "23\n",
            "29\n",
            "31\n",
            "37\n",
            "41\n",
            "43\n",
            "47\n",
            "53\n",
            "59\n",
            "61\n",
            "67\n",
            "71\n",
            "73\n",
            "79\n",
            "83\n",
            "89\n",
            "97\n"
          ]
        }
      ]
    },
    {
      "cell_type": "markdown",
      "source": [
        "### **Comprehensions**"
      ],
      "metadata": {
        "id": "FSn-ibkJHcCB"
      }
    },
    {
      "cell_type": "code",
      "source": [
        "l1 = [\"automobiles\", \"Honda\", \"Suzuki\", \"Benz\"]\n",
        "l2 = []\n",
        "for i in l1:\n",
        "  l2.append(len(i))\n",
        "l2"
      ],
      "metadata": {
        "id": "0qXmMWiAITEl",
        "colab": {
          "base_uri": "https://localhost:8080/"
        },
        "outputId": "28f5810c-eb52-40f2-d623-38529b714802"
      },
      "execution_count": 175,
      "outputs": [
        {
          "output_type": "execute_result",
          "data": {
            "text/plain": [
              "[11, 5, 6, 4]"
            ]
          },
          "metadata": {},
          "execution_count": 175
        }
      ]
    },
    {
      "cell_type": "code",
      "source": [
        "# Function approach\n",
        "\n",
        "l1 = [\"automobiles\", \"Honda\", \"Suzuki\", \"Benz\"]\n",
        "l2 = [len(i) for i in l1]\n",
        "l2"
      ],
      "metadata": {
        "id": "YSWq5RluIjOj",
        "colab": {
          "base_uri": "https://localhost:8080/"
        },
        "outputId": "805165c6-816a-4136-d76e-008562e591c2"
      },
      "execution_count": 176,
      "outputs": [
        {
          "output_type": "execute_result",
          "data": {
            "text/plain": [
              "[11, 5, 6, 4]"
            ]
          },
          "metadata": {},
          "execution_count": 176
        }
      ]
    },
    {
      "cell_type": "code",
      "source": [
        "# Dictionary Comprehensions\n",
        "\n",
        "l1 = [\"automobiles\" , \"Honda\", \"Suzuki\", \"Benz\"]\n",
        "d = {i : len(i) for i in l1}\n",
        "print(d)"
      ],
      "metadata": {
        "id": "aXMadtTJI4pn",
        "colab": {
          "base_uri": "https://localhost:8080/"
        },
        "outputId": "e8cd514a-ade5-4523-8eba-d2cd50b90271"
      },
      "execution_count": 52,
      "outputs": [
        {
          "output_type": "stream",
          "name": "stdout",
          "text": [
            "{'automobiles': 11, 'Honda': 5, 'Suzuki': 6, 'Benz': 4}\n"
          ]
        }
      ]
    },
    {
      "cell_type": "code",
      "source": [
        "# Set comprehensions // Set removes duplicate values\n",
        "word = input(\"Enter a word: \")\n",
        "vowels = { i for i in word if i in \"aeiou\"}\n",
        "vowels"
      ],
      "metadata": {
        "id": "5_uz8dEdJujd",
        "colab": {
          "base_uri": "https://localhost:8080/"
        },
        "outputId": "ec377c7a-8be8-4879-cb80-e94419bf3a16"
      },
      "execution_count": 177,
      "outputs": [
        {
          "name": "stdout",
          "output_type": "stream",
          "text": [
            "Enter a word: elephant\n"
          ]
        },
        {
          "output_type": "execute_result",
          "data": {
            "text/plain": [
              "{'a', 'e'}"
            ]
          },
          "metadata": {},
          "execution_count": 177
        }
      ]
    },
    {
      "cell_type": "markdown",
      "source": [
        "## **Function**"
      ],
      "metadata": {
        "id": "C_aTxUWpOAPo"
      }
    },
    {
      "cell_type": "code",
      "source": [
        "# Write a function which takes a value as a parameter and returns its factorial\n",
        "def factorial(n):\n",
        "  fact = 1\n",
        "  for i in range(1,n+1):\n",
        "    fact*=i\n",
        "\n",
        "  return fact"
      ],
      "metadata": {
        "id": "CHcXmt_JOCO1"
      },
      "execution_count": 178,
      "outputs": []
    },
    {
      "cell_type": "code",
      "source": [
        "factorial(5)\n"
      ],
      "metadata": {
        "id": "y4WY4n0kOmSC",
        "colab": {
          "base_uri": "https://localhost:8080/"
        },
        "outputId": "3cecc2dc-05de-491d-c23a-ca07f3d349c5"
      },
      "execution_count": 181,
      "outputs": [
        {
          "output_type": "execute_result",
          "data": {
            "text/plain": [
              "120"
            ]
          },
          "metadata": {},
          "execution_count": 181
        }
      ]
    },
    {
      "cell_type": "markdown",
      "source": [
        "### **Function Arguments**"
      ],
      "metadata": {
        "id": "UFaKsB3XO7g3"
      }
    },
    {
      "cell_type": "code",
      "source": [
        "def func(name, age = 35): # default parameters\n",
        "  print(\"Name: \", name)\n",
        "  print(\"Age: \", age)"
      ],
      "metadata": {
        "id": "0F9AvpLAO9pH"
      },
      "execution_count": 56,
      "outputs": []
    },
    {
      "cell_type": "code",
      "source": [
        "func(\"Danish\")\n",
        "func(\"Shiv\", 25)"
      ],
      "metadata": {
        "id": "GxnB9UCSPzQO",
        "colab": {
          "base_uri": "https://localhost:8080/"
        },
        "outputId": "9c218b1a-eaa2-458c-cd88-a6c1925f62ee"
      },
      "execution_count": 182,
      "outputs": [
        {
          "output_type": "stream",
          "name": "stdout",
          "text": [
            "Name:  Danish\n",
            "Age:  35\n",
            "Name:  Shiv\n",
            "Age:  25\n"
          ]
        }
      ]
    },
    {
      "cell_type": "code",
      "source": [
        "# Variable length argument\n",
        "def var_func(*args):\n",
        "  print(args)\n",
        "\n",
        "var_func(1,3,\"abc\") # variable length argument"
      ],
      "metadata": {
        "id": "-eE9WVS4P3zq",
        "colab": {
          "base_uri": "https://localhost:8080/"
        },
        "outputId": "355c436f-f248-4d0f-e39e-9741795b9d71"
      },
      "execution_count": 183,
      "outputs": [
        {
          "output_type": "stream",
          "name": "stdout",
          "text": [
            "(1, 3, 'abc')\n"
          ]
        }
      ]
    },
    {
      "cell_type": "markdown",
      "source": [
        "### **Lambda Function**"
      ],
      "metadata": {
        "id": "JLg4HHAuVFev"
      }
    },
    {
      "cell_type": "code",
      "source": [
        "f = lambda x: \"even\" if x%2==0 else \"odd\"\n",
        "f(3)"
      ],
      "metadata": {
        "id": "mgEN3vArVHsF",
        "colab": {
          "base_uri": "https://localhost:8080/",
          "height": 35
        },
        "outputId": "fede614f-682b-44b2-8742-ab35416440a4"
      },
      "execution_count": 184,
      "outputs": [
        {
          "output_type": "execute_result",
          "data": {
            "text/plain": [
              "'odd'"
            ],
            "application/vnd.google.colaboratory.intrinsic+json": {
              "type": "string"
            }
          },
          "metadata": {},
          "execution_count": 184
        }
      ]
    },
    {
      "cell_type": "markdown",
      "source": [
        "## **Data Structures in Python**"
      ],
      "metadata": {
        "id": "sd8XLb82XiGs"
      }
    },
    {
      "cell_type": "markdown",
      "source": [
        "### **Tuples**\n",
        "- Tuples are an ordered sequence of mixed data types\n",
        "- Tuples are written in comma-separated elements within parenthesis ()\n",
        "- Tuples are immutable, meaning you cannot change their elements once the tuple is created."
      ],
      "metadata": {
        "id": "YKGhjWsDVdQ2"
      }
    },
    {
      "cell_type": "code",
      "source": [
        "t = (\"tuple\", 11, 2.4)\n",
        "t"
      ],
      "metadata": {
        "id": "0R0zDvqGVeRC",
        "colab": {
          "base_uri": "https://localhost:8080/"
        },
        "outputId": "3ea22504-25b8-4a72-8e80-ff99cd4d4c48"
      },
      "execution_count": 211,
      "outputs": [
        {
          "output_type": "execute_result",
          "data": {
            "text/plain": [
              "('tuple', 11, 2.4)"
            ]
          },
          "metadata": {},
          "execution_count": 211
        }
      ]
    },
    {
      "cell_type": "code",
      "source": [
        "type(t)"
      ],
      "metadata": {
        "id": "pFuQP0oDX8VG",
        "colab": {
          "base_uri": "https://localhost:8080/"
        },
        "outputId": "8a615673-88e7-4488-a5f7-0411a5a74b6a"
      },
      "execution_count": 212,
      "outputs": [
        {
          "output_type": "execute_result",
          "data": {
            "text/plain": [
              "tuple"
            ]
          },
          "metadata": {},
          "execution_count": 212
        }
      ]
    },
    {
      "cell_type": "code",
      "source": [
        "t1 = 2,4,6,8\n",
        "t1"
      ],
      "metadata": {
        "id": "8Cp9GcxDX-XR",
        "colab": {
          "base_uri": "https://localhost:8080/"
        },
        "outputId": "4882ff38-ffe5-4759-f688-0d010fffffb6"
      },
      "execution_count": 213,
      "outputs": [
        {
          "output_type": "execute_result",
          "data": {
            "text/plain": [
              "(2, 4, 6, 8)"
            ]
          },
          "metadata": {},
          "execution_count": 213
        }
      ]
    },
    {
      "cell_type": "code",
      "source": [
        "# tuple with single element\n",
        "t2 = 2,\n",
        "t2"
      ],
      "metadata": {
        "id": "HU1mOWrhYEfD",
        "colab": {
          "base_uri": "https://localhost:8080/"
        },
        "outputId": "6f9d3633-b088-472c-a5e1-febe91a322a2"
      },
      "execution_count": 214,
      "outputs": [
        {
          "output_type": "execute_result",
          "data": {
            "text/plain": [
              "(2,)"
            ]
          },
          "metadata": {},
          "execution_count": 214
        }
      ]
    },
    {
      "cell_type": "code",
      "source": [
        "t3 = 1\n",
        "type(t3)"
      ],
      "metadata": {
        "id": "0jzJAPIXYPqR",
        "colab": {
          "base_uri": "https://localhost:8080/"
        },
        "outputId": "50faaa95-b1f0-40f7-bfa4-4e89acd93266"
      },
      "execution_count": 215,
      "outputs": [
        {
          "output_type": "execute_result",
          "data": {
            "text/plain": [
              "int"
            ]
          },
          "metadata": {},
          "execution_count": 215
        }
      ]
    },
    {
      "cell_type": "code",
      "source": [
        "t4 = (1,)\n",
        "type(t4)"
      ],
      "metadata": {
        "id": "68tPL1BtYZYW",
        "colab": {
          "base_uri": "https://localhost:8080/"
        },
        "outputId": "8590ccc8-60d7-4487-f1ee-58698c69693e"
      },
      "execution_count": 216,
      "outputs": [
        {
          "output_type": "execute_result",
          "data": {
            "text/plain": [
              "tuple"
            ]
          },
          "metadata": {},
          "execution_count": 216
        }
      ]
    },
    {
      "cell_type": "markdown",
      "source": [
        "### Indexing in tuples"
      ],
      "metadata": {
        "id": "NP9_FQa2YoOa"
      }
    },
    {
      "cell_type": "code",
      "source": [
        "t = (\"Bombay\", 78, \"Data\")\n",
        "t[1]"
      ],
      "metadata": {
        "id": "oUoAipXRYsM9",
        "colab": {
          "base_uri": "https://localhost:8080/"
        },
        "outputId": "68fc66e3-4e17-4069-848c-b9e49104e31f"
      },
      "execution_count": 217,
      "outputs": [
        {
          "output_type": "execute_result",
          "data": {
            "text/plain": [
              "78"
            ]
          },
          "metadata": {},
          "execution_count": 217
        }
      ]
    },
    {
      "cell_type": "code",
      "source": [
        "t[-1]"
      ],
      "metadata": {
        "id": "3W5EdEtzY2KY",
        "colab": {
          "base_uri": "https://localhost:8080/",
          "height": 35
        },
        "outputId": "47f1511b-33be-4a3f-9897-79f28aff1dd3"
      },
      "execution_count": 218,
      "outputs": [
        {
          "output_type": "execute_result",
          "data": {
            "text/plain": [
              "'Data'"
            ],
            "application/vnd.google.colaboratory.intrinsic+json": {
              "type": "string"
            }
          },
          "metadata": {},
          "execution_count": 218
        }
      ]
    },
    {
      "cell_type": "markdown",
      "source": [
        "### Slicing in tuples"
      ],
      "metadata": {
        "id": "Kx5cyum8ZBOb"
      }
    },
    {
      "cell_type": "code",
      "source": [
        "t = (\"Bombay\", 78, \"Data\", 23, 7,'a')\n",
        "t[0:3]"
      ],
      "metadata": {
        "id": "AB-xFqohY8QX",
        "colab": {
          "base_uri": "https://localhost:8080/"
        },
        "outputId": "310302e1-393e-4178-c93f-a9ac20c0eed3"
      },
      "execution_count": 219,
      "outputs": [
        {
          "output_type": "execute_result",
          "data": {
            "text/plain": [
              "('Bombay', 78, 'Data')"
            ]
          },
          "metadata": {},
          "execution_count": 219
        }
      ]
    },
    {
      "cell_type": "code",
      "source": [
        "t[-2:]"
      ],
      "metadata": {
        "id": "4C4fF9LwZMBs",
        "colab": {
          "base_uri": "https://localhost:8080/"
        },
        "outputId": "8aa1dab9-86dc-4a25-d640-00f030ecb297"
      },
      "execution_count": 220,
      "outputs": [
        {
          "output_type": "execute_result",
          "data": {
            "text/plain": [
              "(7, 'a')"
            ]
          },
          "metadata": {},
          "execution_count": 220
        }
      ]
    },
    {
      "cell_type": "code",
      "source": [
        "len(t)"
      ],
      "metadata": {
        "id": "Z7m99Q1kdqKf",
        "colab": {
          "base_uri": "https://localhost:8080/"
        },
        "outputId": "00012c15-9400-46a2-e1c3-61f0c364024b"
      },
      "execution_count": 221,
      "outputs": [
        {
          "output_type": "execute_result",
          "data": {
            "text/plain": [
              "6"
            ]
          },
          "metadata": {},
          "execution_count": 221
        }
      ]
    },
    {
      "cell_type": "code",
      "source": [
        "# Concatenating Tuples\n",
        "t1 = (\"Welcome\",\"to\")\n",
        "t2 = (\"Introduction\", \"to\", \"Python\")\n",
        "\n",
        "t3 = t1+t2\n",
        "t3"
      ],
      "metadata": {
        "id": "TOsTV5Lndr0t",
        "colab": {
          "base_uri": "https://localhost:8080/"
        },
        "outputId": "66db48ce-46ee-43c9-fa63-9be6386a717a"
      },
      "execution_count": 222,
      "outputs": [
        {
          "output_type": "execute_result",
          "data": {
            "text/plain": [
              "('Welcome', 'to', 'Introduction', 'to', 'Python')"
            ]
          },
          "metadata": {},
          "execution_count": 222
        }
      ]
    },
    {
      "cell_type": "code",
      "source": [
        "for i in t3:\n",
        "  print(i, end=\" \")"
      ],
      "metadata": {
        "id": "Qbhzxv2ndvll",
        "colab": {
          "base_uri": "https://localhost:8080/"
        },
        "outputId": "893fb159-d012-4fa6-f9ef-f5236817167d"
      },
      "execution_count": 223,
      "outputs": [
        {
          "output_type": "stream",
          "name": "stdout",
          "text": [
            "Welcome to Introduction to Python "
          ]
        }
      ]
    },
    {
      "cell_type": "code",
      "source": [
        "# sum() , min() , max()\n",
        "t = (2, 14, 10, 17)\n",
        "sum(t)"
      ],
      "metadata": {
        "id": "cwr4YJDWeUlb",
        "colab": {
          "base_uri": "https://localhost:8080/"
        },
        "outputId": "4cbb8436-c8e2-4f98-8afc-377538be11a8"
      },
      "execution_count": 224,
      "outputs": [
        {
          "output_type": "execute_result",
          "data": {
            "text/plain": [
              "43"
            ]
          },
          "metadata": {},
          "execution_count": 224
        }
      ]
    },
    {
      "cell_type": "code",
      "source": [
        "min(t)"
      ],
      "metadata": {
        "id": "zr7ciFXEeuWk",
        "colab": {
          "base_uri": "https://localhost:8080/"
        },
        "outputId": "902164e3-f73d-43a7-bdc1-b6901c39f666"
      },
      "execution_count": 226,
      "outputs": [
        {
          "output_type": "execute_result",
          "data": {
            "text/plain": [
              "2"
            ]
          },
          "metadata": {},
          "execution_count": 226
        }
      ]
    },
    {
      "cell_type": "code",
      "source": [
        "max(t)"
      ],
      "metadata": {
        "id": "c9rKcRQTe0Vm",
        "colab": {
          "base_uri": "https://localhost:8080/"
        },
        "outputId": "63bbc175-641d-46bf-9411-4a33739109fb"
      },
      "execution_count": 227,
      "outputs": [
        {
          "output_type": "execute_result",
          "data": {
            "text/plain": [
              "17"
            ]
          },
          "metadata": {},
          "execution_count": 227
        }
      ]
    },
    {
      "cell_type": "code",
      "source": [
        "# Immutability of tuples\n",
        "t = (\"R&B\", 4, 5, \"Music\", 7.5)\n",
        "\n",
        "# t[3] = \"jazz\" i.e. we can't change the tuples items once defined\n",
        "\n",
        "new_t = t[0:3]+(\"Jazz\",)+t[4:]\n",
        "new_t"
      ],
      "metadata": {
        "id": "NCyTU_Eve1Oo",
        "colab": {
          "base_uri": "https://localhost:8080/"
        },
        "outputId": "28dfd49f-7df0-4771-8304-697826e3f129"
      },
      "execution_count": 228,
      "outputs": [
        {
          "output_type": "execute_result",
          "data": {
            "text/plain": [
              "('R&B', 4, 5, 'Jazz', 7.5)"
            ]
          },
          "metadata": {},
          "execution_count": 228
        }
      ]
    },
    {
      "cell_type": "code",
      "source": [
        "# Sorting a tuple\n",
        "t = (2,14,10,17)\n",
        "sorted(t)\n",
        "\n",
        "# observe that now it has become a list"
      ],
      "metadata": {
        "id": "NT6sfHIqfMRz",
        "colab": {
          "base_uri": "https://localhost:8080/"
        },
        "outputId": "59c5906a-9c18-47f6-8538-20604546aa09"
      },
      "execution_count": 229,
      "outputs": [
        {
          "output_type": "execute_result",
          "data": {
            "text/plain": [
              "[2, 10, 14, 17]"
            ]
          },
          "metadata": {},
          "execution_count": 229
        }
      ]
    },
    {
      "cell_type": "code",
      "source": [
        "x=sorted(t)\n",
        "tuple(x)"
      ],
      "metadata": {
        "id": "lyEONOskf-Gy",
        "colab": {
          "base_uri": "https://localhost:8080/"
        },
        "outputId": "38b529cd-3ee5-4c2a-85f5-b485b803aeb5"
      },
      "execution_count": 231,
      "outputs": [
        {
          "output_type": "execute_result",
          "data": {
            "text/plain": [
              "(2, 10, 14, 17)"
            ]
          },
          "metadata": {},
          "execution_count": 231
        }
      ]
    },
    {
      "cell_type": "markdown",
      "source": [
        "## **Lists**\n",
        "- Lists are an ordered sequence of mixed data types\n",
        "- Lists are written as comma-separated elements within square brackets [].\n",
        "- Lists are mutable, meaning you can change their elements (add, remove, or modify) after the list is created."
      ],
      "metadata": {
        "id": "PZ7RlkwFe-oS"
      }
    },
    {
      "cell_type": "code",
      "source": [
        "L = [\"Data\" , 23 , [\"Python\", \"Java\"], 6]\n",
        "L"
      ],
      "metadata": {
        "id": "kKpyEOtnfAJE",
        "colab": {
          "base_uri": "https://localhost:8080/"
        },
        "outputId": "f64c3764-6f5b-45f4-c3b7-f6c876eb7044"
      },
      "execution_count": 185,
      "outputs": [
        {
          "output_type": "execute_result",
          "data": {
            "text/plain": [
              "['Data', 23, ['Python', 'Java'], 6]"
            ]
          },
          "metadata": {},
          "execution_count": 185
        }
      ]
    },
    {
      "cell_type": "code",
      "source": [
        "L[0]"
      ],
      "metadata": {
        "id": "YGUMqZy6hMyq",
        "colab": {
          "base_uri": "https://localhost:8080/",
          "height": 35
        },
        "outputId": "4d8e7f34-eafc-495f-d33b-0f2bf1ed69c2"
      },
      "execution_count": 186,
      "outputs": [
        {
          "output_type": "execute_result",
          "data": {
            "text/plain": [
              "'Data'"
            ],
            "application/vnd.google.colaboratory.intrinsic+json": {
              "type": "string"
            }
          },
          "metadata": {},
          "execution_count": 186
        }
      ]
    },
    {
      "cell_type": "code",
      "source": [
        "L[-3]"
      ],
      "metadata": {
        "id": "4ay-1l5shitt",
        "colab": {
          "base_uri": "https://localhost:8080/"
        },
        "outputId": "76e0d819-3269-4c2f-9f71-eaaab48fe533"
      },
      "execution_count": 187,
      "outputs": [
        {
          "output_type": "execute_result",
          "data": {
            "text/plain": [
              "23"
            ]
          },
          "metadata": {},
          "execution_count": 187
        }
      ]
    },
    {
      "cell_type": "code",
      "source": [
        "L[2][1]"
      ],
      "metadata": {
        "id": "WoTWRWmvhlq5",
        "colab": {
          "base_uri": "https://localhost:8080/",
          "height": 35
        },
        "outputId": "2f795846-cae1-4cfb-e1f3-e5e3e03a9c94"
      },
      "execution_count": 188,
      "outputs": [
        {
          "output_type": "execute_result",
          "data": {
            "text/plain": [
              "'Java'"
            ],
            "application/vnd.google.colaboratory.intrinsic+json": {
              "type": "string"
            }
          },
          "metadata": {},
          "execution_count": 188
        }
      ]
    },
    {
      "cell_type": "code",
      "source": [
        "L[-2][-1]"
      ],
      "metadata": {
        "id": "_OJXq-hHhs6C",
        "colab": {
          "base_uri": "https://localhost:8080/",
          "height": 35
        },
        "outputId": "b593ada1-b880-471f-9183-d5bc1a194619"
      },
      "execution_count": 189,
      "outputs": [
        {
          "output_type": "execute_result",
          "data": {
            "text/plain": [
              "'Java'"
            ],
            "application/vnd.google.colaboratory.intrinsic+json": {
              "type": "string"
            }
          },
          "metadata": {},
          "execution_count": 189
        }
      ]
    },
    {
      "cell_type": "code",
      "source": [
        "L[0:2]"
      ],
      "metadata": {
        "id": "Yua8PxEahvbz",
        "colab": {
          "base_uri": "https://localhost:8080/"
        },
        "outputId": "a9f379e1-271f-461b-dd39-067552ffa46b"
      },
      "execution_count": 190,
      "outputs": [
        {
          "output_type": "execute_result",
          "data": {
            "text/plain": [
              "['Data', 23]"
            ]
          },
          "metadata": {},
          "execution_count": 190
        }
      ]
    },
    {
      "cell_type": "code",
      "source": [
        "L = [1,2,3,4]\n",
        "print(2 in L)\n",
        "print(8 not in L)"
      ],
      "metadata": {
        "id": "4QctUGXVkkov",
        "colab": {
          "base_uri": "https://localhost:8080/"
        },
        "outputId": "6ed830fb-f2e5-43e9-9beb-44f5e211ddc9"
      },
      "execution_count": 191,
      "outputs": [
        {
          "output_type": "stream",
          "name": "stdout",
          "text": [
            "True\n",
            "True\n"
          ]
        }
      ]
    },
    {
      "cell_type": "code",
      "source": [
        "L = [\"Data\" , 23 , [\"Python\", \"Java\"], 6]\n",
        "new_L = L + [1984, 1850]\n",
        "new_L"
      ],
      "metadata": {
        "id": "Lbhki-tbk4t-",
        "colab": {
          "base_uri": "https://localhost:8080/"
        },
        "outputId": "2419a30f-c424-46fd-c602-6b3afee953e3"
      },
      "execution_count": 193,
      "outputs": [
        {
          "output_type": "execute_result",
          "data": {
            "text/plain": [
              "['Data', 23, ['Python', 'Java'], 6, 1984, 1850]"
            ]
          },
          "metadata": {},
          "execution_count": 193
        }
      ]
    },
    {
      "cell_type": "code",
      "source": [
        "L = [\"Data\" , 23 , [\"Python\", \"Java\"], 6]\n",
        "L.extend([1984,1850])\n",
        "L"
      ],
      "metadata": {
        "id": "OyiWqxlblYoc",
        "colab": {
          "base_uri": "https://localhost:8080/"
        },
        "outputId": "6f9adb9b-d29b-46fa-8aa0-ed8a27f75fea"
      },
      "execution_count": 194,
      "outputs": [
        {
          "output_type": "execute_result",
          "data": {
            "text/plain": [
              "['Data', 23, ['Python', 'Java'], 6, 1984, 1850]"
            ]
          },
          "metadata": {},
          "execution_count": 194
        }
      ]
    },
    {
      "cell_type": "code",
      "source": [
        "# Adding element as List\n",
        "L = [\"Data\" , 23 , [\"Python\", \"Java\"], 6]\n",
        "L.append([1984, 1850])\n",
        "L"
      ],
      "metadata": {
        "id": "whFeut03lh8Z",
        "colab": {
          "base_uri": "https://localhost:8080/"
        },
        "outputId": "67f69e36-28ef-45b6-fb27-41c2b06907f4"
      },
      "execution_count": 195,
      "outputs": [
        {
          "output_type": "execute_result",
          "data": {
            "text/plain": [
              "['Data', 23, ['Python', 'Java'], 6, [1984, 1850]]"
            ]
          },
          "metadata": {},
          "execution_count": 195
        }
      ]
    },
    {
      "cell_type": "code",
      "source": [
        "# Deleting element\n",
        "del L[0]\n",
        "L"
      ],
      "metadata": {
        "id": "bhNMzJ9WlvmA",
        "colab": {
          "base_uri": "https://localhost:8080/"
        },
        "outputId": "185e2936-3b6b-4b92-bd5d-ba134fda37c1"
      },
      "execution_count": 196,
      "outputs": [
        {
          "output_type": "execute_result",
          "data": {
            "text/plain": [
              "[23, ['Python', 'Java'], 6, [1984, 1850]]"
            ]
          },
          "metadata": {},
          "execution_count": 196
        }
      ]
    },
    {
      "cell_type": "code",
      "source": [
        "del L[0:2]\n",
        "L"
      ],
      "metadata": {
        "id": "AYl6J-fEl5pB",
        "colab": {
          "base_uri": "https://localhost:8080/"
        },
        "outputId": "7a8727eb-1993-4ea9-b175-295e6bee3b80"
      },
      "execution_count": 197,
      "outputs": [
        {
          "output_type": "execute_result",
          "data": {
            "text/plain": [
              "[6, [1984, 1850]]"
            ]
          },
          "metadata": {},
          "execution_count": 197
        }
      ]
    },
    {
      "cell_type": "code",
      "source": [
        "# Changing value\n",
        "\n",
        "L[0] = \"Data\"\n",
        "L"
      ],
      "metadata": {
        "id": "RrMgyaE3l8uB",
        "colab": {
          "base_uri": "https://localhost:8080/"
        },
        "outputId": "c58ef24d-9a52-4d51-80b3-c22c191009b2"
      },
      "execution_count": 198,
      "outputs": [
        {
          "output_type": "execute_result",
          "data": {
            "text/plain": [
              "['Data', [1984, 1850]]"
            ]
          },
          "metadata": {},
          "execution_count": 198
        }
      ]
    },
    {
      "cell_type": "code",
      "source": [
        "L = [\"Data\" , 23 , [\"Python\", \"Java\"], 6]\n",
        "L.pop() # Pops out the last element\n",
        "# if an index is mentioned in the pop(_) then it removes\n",
        "# element at that index"
      ],
      "metadata": {
        "id": "1McltiOhtaWY",
        "colab": {
          "base_uri": "https://localhost:8080/"
        },
        "outputId": "7b1cbb61-c1a3-4ad1-fddf-5586b417055e"
      },
      "execution_count": 199,
      "outputs": [
        {
          "output_type": "execute_result",
          "data": {
            "text/plain": [
              "6"
            ]
          },
          "metadata": {},
          "execution_count": 199
        }
      ]
    },
    {
      "cell_type": "code",
      "source": [
        "L"
      ],
      "metadata": {
        "id": "SnMws9j5tjjP",
        "colab": {
          "base_uri": "https://localhost:8080/"
        },
        "outputId": "20bb3813-3439-447e-85cc-a58a2d3b8637"
      },
      "execution_count": 203,
      "outputs": [
        {
          "output_type": "execute_result",
          "data": {
            "text/plain": [
              "['Data', 23]"
            ]
          },
          "metadata": {},
          "execution_count": 203
        }
      ]
    },
    {
      "cell_type": "code",
      "source": [
        "# Removing particular element\n",
        "\n",
        "L = [\"Data\" , 23 , [\"Python\", \"Java\"], 6]\n",
        "L.remove(\"Data\")\n",
        "L"
      ],
      "metadata": {
        "id": "THn_LEVstkIs",
        "colab": {
          "base_uri": "https://localhost:8080/"
        },
        "outputId": "9534f4d9-b83c-4b63-9f2b-466e1adceb3b"
      },
      "execution_count": 204,
      "outputs": [
        {
          "output_type": "execute_result",
          "data": {
            "text/plain": [
              "[23, ['Python', 'Java'], 6]"
            ]
          },
          "metadata": {},
          "execution_count": 204
        }
      ]
    },
    {
      "cell_type": "code",
      "source": [
        "l = [2,3,4,6,1,8]\n",
        "l.sort()\n",
        "l"
      ],
      "metadata": {
        "id": "RQIBZhjEt1iA",
        "colab": {
          "base_uri": "https://localhost:8080/"
        },
        "outputId": "5aefe679-29f8-47fa-f827-f2366b4d6151"
      },
      "execution_count": 205,
      "outputs": [
        {
          "output_type": "execute_result",
          "data": {
            "text/plain": [
              "[1, 2, 3, 4, 6, 8]"
            ]
          },
          "metadata": {},
          "execution_count": 205
        }
      ]
    },
    {
      "cell_type": "code",
      "source": [
        "# Sorting in reverse order\n",
        "l.sort(reverse = True)\n",
        "l"
      ],
      "metadata": {
        "id": "ZnUP9xaXuVp2",
        "colab": {
          "base_uri": "https://localhost:8080/"
        },
        "outputId": "ce1defc5-6ea4-466a-a2b0-3d4cba77db26"
      },
      "execution_count": 206,
      "outputs": [
        {
          "output_type": "execute_result",
          "data": {
            "text/plain": [
              "[8, 6, 4, 3, 2, 1]"
            ]
          },
          "metadata": {},
          "execution_count": 206
        }
      ]
    },
    {
      "cell_type": "code",
      "source": [
        "A = [\"Python\" ,\"R\", \"Java\"]\n",
        "B = A.sort()          # the sort method on the list A. It sorts the list in-place and returns None. Therefore, the variable B is assigned the value None.\n",
        "print(A)\n",
        "print(B)"
      ],
      "metadata": {
        "id": "IY9u1yIcue4G",
        "colab": {
          "base_uri": "https://localhost:8080/"
        },
        "outputId": "687ed492-cc5a-4ce5-a343-874e5c8aed02"
      },
      "execution_count": 207,
      "outputs": [
        {
          "output_type": "stream",
          "name": "stdout",
          "text": [
            "['Java', 'Python', 'R']\n",
            "None\n"
          ]
        }
      ]
    },
    {
      "cell_type": "code",
      "source": [
        "A=[\"Python\", \"R\", \"Java\"]\n",
        "C = sorted(A)\n",
        "print(A)\n",
        "print(C)"
      ],
      "metadata": {
        "id": "evcRW6hXu9ah",
        "colab": {
          "base_uri": "https://localhost:8080/"
        },
        "outputId": "ee84b58c-8233-4b26-f934-b4d5119087f7"
      },
      "execution_count": 98,
      "outputs": [
        {
          "output_type": "stream",
          "name": "stdout",
          "text": [
            "['Python', 'R', 'Java']\n",
            "['Java', 'Python', 'R']\n"
          ]
        }
      ]
    },
    {
      "cell_type": "markdown",
      "source": [
        "## **Set**\n",
        "- Sets are a type of collection like lists and tuples, storing mixed data\n",
        "- Unordered\n",
        "- Sets do not allow duplicates"
      ],
      "metadata": {
        "id": "In34EkugvWcC"
      }
    },
    {
      "cell_type": "code",
      "source": [
        "\n",
        "l = (2,3,14,10,2,1,7,21,2)\n",
        "set_l = set(l)\n",
        "set_l"
      ],
      "metadata": {
        "id": "vA6JTXT5vois",
        "colab": {
          "base_uri": "https://localhost:8080/"
        },
        "outputId": "8a8f01ad-369f-4b87-9aa6-a418a8a06d94"
      },
      "execution_count": 232,
      "outputs": [
        {
          "output_type": "execute_result",
          "data": {
            "text/plain": [
              "{1, 2, 3, 7, 10, 14, 21}"
            ]
          },
          "metadata": {},
          "execution_count": 232
        }
      ]
    },
    {
      "cell_type": "code",
      "source": [
        "len(set_l)"
      ],
      "metadata": {
        "id": "geSuGojiwDRf",
        "colab": {
          "base_uri": "https://localhost:8080/"
        },
        "outputId": "2b762f9f-93de-47fa-f422-efbdd02ba88f"
      },
      "execution_count": 233,
      "outputs": [
        {
          "output_type": "execute_result",
          "data": {
            "text/plain": [
              "7"
            ]
          },
          "metadata": {},
          "execution_count": 233
        }
      ]
    },
    {
      "cell_type": "code",
      "source": [
        "a = {1,2,7,10,17}\n",
        "a.add(\"Python\")\n",
        "a"
      ],
      "metadata": {
        "id": "rYlMkRYnwI2v",
        "colab": {
          "base_uri": "https://localhost:8080/"
        },
        "outputId": "702a4265-57e0-4d9d-a4e4-5ba2eae1557a"
      },
      "execution_count": 234,
      "outputs": [
        {
          "output_type": "execute_result",
          "data": {
            "text/plain": [
              "{1, 10, 17, 2, 7, 'Python'}"
            ]
          },
          "metadata": {},
          "execution_count": 234
        }
      ]
    },
    {
      "cell_type": "code",
      "source": [
        "a.remove(\"Python\")\n",
        "a"
      ],
      "metadata": {
        "id": "3Igsc3FJwSTw",
        "colab": {
          "base_uri": "https://localhost:8080/"
        },
        "outputId": "fd9b82ec-e286-4c09-e5c9-ef78e5ed04a3"
      },
      "execution_count": 235,
      "outputs": [
        {
          "output_type": "execute_result",
          "data": {
            "text/plain": [
              "{1, 2, 7, 10, 17}"
            ]
          },
          "metadata": {},
          "execution_count": 235
        }
      ]
    },
    {
      "cell_type": "markdown",
      "source": [
        "### Set Operations"
      ],
      "metadata": {
        "id": "0xuG9nmkwc_o"
      }
    },
    {
      "cell_type": "code",
      "source": [
        "A = {0,2,4,6,8}\n",
        "B = {1,2,3,4,5}"
      ],
      "metadata": {
        "id": "obyyuGkcwf1d"
      },
      "execution_count": 236,
      "outputs": []
    },
    {
      "cell_type": "code",
      "source": [
        "# UNION\n",
        "print(A.union(B))"
      ],
      "metadata": {
        "id": "V3M5Vv07wsnQ",
        "colab": {
          "base_uri": "https://localhost:8080/"
        },
        "outputId": "a994cf3d-6dfa-48b9-9c40-54d722ae417c"
      },
      "execution_count": 237,
      "outputs": [
        {
          "output_type": "stream",
          "name": "stdout",
          "text": [
            "{0, 1, 2, 3, 4, 5, 6, 8}\n"
          ]
        }
      ]
    },
    {
      "cell_type": "code",
      "source": [
        "# INTERSECTION\n",
        "print(A.intersection(B))"
      ],
      "metadata": {
        "id": "IlUQSGbtw0Qw",
        "colab": {
          "base_uri": "https://localhost:8080/"
        },
        "outputId": "e634bd0f-990c-4582-b332-784173529e2f"
      },
      "execution_count": 238,
      "outputs": [
        {
          "output_type": "stream",
          "name": "stdout",
          "text": [
            "{2, 4}\n"
          ]
        }
      ]
    },
    {
      "cell_type": "code",
      "source": [
        "# DIFFERENCE\n",
        "print(A.difference(B))"
      ],
      "metadata": {
        "id": "Gg-Kyy7wxIBf",
        "colab": {
          "base_uri": "https://localhost:8080/"
        },
        "outputId": "00e0d393-ddd4-4ced-ca94-5fd99e720187"
      },
      "execution_count": 239,
      "outputs": [
        {
          "output_type": "stream",
          "name": "stdout",
          "text": [
            "{0, 8, 6}\n"
          ]
        }
      ]
    },
    {
      "cell_type": "code",
      "source": [
        "print(A^B) # it represents the elements that are in either of the sets but not in both."
      ],
      "metadata": {
        "id": "7IeABZpkxRev",
        "colab": {
          "base_uri": "https://localhost:8080/"
        },
        "outputId": "3c0d5a09-513a-4876-8b40-2902a2831471"
      },
      "execution_count": 107,
      "outputs": [
        {
          "output_type": "stream",
          "name": "stdout",
          "text": [
            "{0, 1, 3, 5, 6, 8}\n"
          ]
        }
      ]
    },
    {
      "cell_type": "markdown",
      "source": [
        "## **Dictionary**\n",
        "- Dictionary stores elements as keys and value pair\n",
        "- Mutable"
      ],
      "metadata": {
        "id": "l41gXy_kxfRi"
      }
    },
    {
      "cell_type": "code",
      "source": [
        "d = {\"India\":\"INR\" , \"USA\":\"USD\", \"France\":\"Euro\"}\n",
        "d[\"USA\"]"
      ],
      "metadata": {
        "id": "gZ1nWnADxlWj",
        "colab": {
          "base_uri": "https://localhost:8080/",
          "height": 35
        },
        "outputId": "97da000e-2526-4aea-b300-c08c58f5ec75"
      },
      "execution_count": 240,
      "outputs": [
        {
          "output_type": "execute_result",
          "data": {
            "text/plain": [
              "'USD'"
            ],
            "application/vnd.google.colaboratory.intrinsic+json": {
              "type": "string"
            }
          },
          "metadata": {},
          "execution_count": 240
        }
      ]
    },
    {
      "cell_type": "code",
      "source": [
        "d[\"USA\"] = \"$\"\n",
        "d"
      ],
      "metadata": {
        "id": "bHH1c2oSx_2k",
        "colab": {
          "base_uri": "https://localhost:8080/"
        },
        "outputId": "28b98a54-107f-43fd-de4b-120dd23528e9"
      },
      "execution_count": 242,
      "outputs": [
        {
          "output_type": "execute_result",
          "data": {
            "text/plain": [
              "{'India': 'INR', 'USA': '$', 'France': 'Euro'}"
            ]
          },
          "metadata": {},
          "execution_count": 242
        }
      ]
    },
    {
      "cell_type": "code",
      "source": [
        "# Adding element to a dictionary\n",
        "d[\"Japan\"] = \"Yen\"\n",
        "d"
      ],
      "metadata": {
        "id": "F8Y-9102yMY2",
        "colab": {
          "base_uri": "https://localhost:8080/"
        },
        "outputId": "37bbe8c5-2962-481d-b371-b47c9a646e03"
      },
      "execution_count": 243,
      "outputs": [
        {
          "output_type": "execute_result",
          "data": {
            "text/plain": [
              "{'India': 'INR', 'USA': '$', 'France': 'Euro', 'Japan': 'Yen'}"
            ]
          },
          "metadata": {},
          "execution_count": 243
        }
      ]
    },
    {
      "cell_type": "code",
      "source": [
        "# Deleting an element\n",
        "del d[\"France\"]\n",
        "d"
      ],
      "metadata": {
        "id": "a2OS3DwyybDe",
        "colab": {
          "base_uri": "https://localhost:8080/"
        },
        "outputId": "8fb8ff80-a9f5-4bec-b895-87f8c4e70065"
      },
      "execution_count": 244,
      "outputs": [
        {
          "output_type": "execute_result",
          "data": {
            "text/plain": [
              "{'India': 'INR', 'USA': '$', 'Japan': 'Yen'}"
            ]
          },
          "metadata": {},
          "execution_count": 244
        }
      ]
    },
    {
      "cell_type": "code",
      "source": [
        "sorted(d)"
      ],
      "metadata": {
        "id": "8rN-7AvAymFb",
        "colab": {
          "base_uri": "https://localhost:8080/"
        },
        "outputId": "2ea3b20d-b53c-4f8e-f519-a931fdfa5c30"
      },
      "execution_count": 246,
      "outputs": [
        {
          "output_type": "execute_result",
          "data": {
            "text/plain": [
              "['India', 'Japan', 'USA']"
            ]
          },
          "metadata": {},
          "execution_count": 246
        }
      ]
    },
    {
      "cell_type": "code",
      "source": [
        "# Accessing all the values\n",
        "d = {\"India\":\"INR\" , \"USA\":\"USD\", \"France\":\"Euro\"}\n",
        "d.values()"
      ],
      "metadata": {
        "id": "E_iaJYZNy5zV",
        "colab": {
          "base_uri": "https://localhost:8080/"
        },
        "outputId": "ae498772-8635-45f1-b44e-0ca0f9f0763e"
      },
      "execution_count": 247,
      "outputs": [
        {
          "output_type": "execute_result",
          "data": {
            "text/plain": [
              "dict_values(['INR', 'USD', 'Euro'])"
            ]
          },
          "metadata": {},
          "execution_count": 247
        }
      ]
    },
    {
      "cell_type": "code",
      "source": [
        "# Accessing al the keys\n",
        "d.keys()"
      ],
      "metadata": {
        "id": "aAAuKxiIzDm7",
        "colab": {
          "base_uri": "https://localhost:8080/"
        },
        "outputId": "0ead2e2f-1779-4ec3-93a0-6edfaf61fe03"
      },
      "execution_count": 248,
      "outputs": [
        {
          "output_type": "execute_result",
          "data": {
            "text/plain": [
              "dict_keys(['India', 'USA', 'France'])"
            ]
          },
          "metadata": {},
          "execution_count": 248
        }
      ]
    },
    {
      "cell_type": "code",
      "source": [
        "# Updating value\n",
        "d.update({\"USA\": \"$\"})\n",
        "d"
      ],
      "metadata": {
        "id": "J7aKYcabzIcr",
        "colab": {
          "base_uri": "https://localhost:8080/"
        },
        "outputId": "b83bd398-4a15-4baf-d9ca-99399b05fb27"
      },
      "execution_count": 249,
      "outputs": [
        {
          "output_type": "execute_result",
          "data": {
            "text/plain": [
              "{'India': 'INR', 'USA': '$', 'France': 'Euro'}"
            ]
          },
          "metadata": {},
          "execution_count": 249
        }
      ]
    },
    {
      "cell_type": "markdown",
      "source": [
        "# **OOPS in Python**"
      ],
      "metadata": {
        "id": "cVvAZkwJ4-dR"
      }
    },
    {
      "cell_type": "markdown",
      "source": [
        "## Defining Class"
      ],
      "metadata": {
        "id": "sextsnNi-eTA"
      }
    },
    {
      "cell_type": "code",
      "source": [
        "class Rectangle:\n",
        "  def __init__(self):\n",
        "    self.length = 10\n",
        "    self.breadth = 5"
      ],
      "metadata": {
        "id": "ICBwjDj7-f_l"
      },
      "execution_count": 251,
      "outputs": []
    },
    {
      "cell_type": "code",
      "source": [
        "rect = Rectangle() # it means self = rect here\n",
        "print(\"Length =\", rect.length, \"\\nBreadth =\",rect.breadth)"
      ],
      "metadata": {
        "colab": {
          "base_uri": "https://localhost:8080/"
        },
        "id": "vQqQUR5FAHxG",
        "outputId": "a267c6af-64ec-42b8-a1f4-eb0d40cd3c88"
      },
      "execution_count": 252,
      "outputs": [
        {
          "output_type": "stream",
          "name": "stdout",
          "text": [
            "Length = 10 \n",
            "Breadth = 5\n"
          ]
        }
      ]
    },
    {
      "cell_type": "markdown",
      "source": [
        "## Parametrised Constructor"
      ],
      "metadata": {
        "id": "Q6awNcIPAsnK"
      }
    },
    {
      "cell_type": "code",
      "source": [
        "class Rectangle:\n",
        "  def __init__(self, length, breadth):\n",
        "    self.length = length\n",
        "    self.breadth = breadth\n",
        "\n",
        "rect = Rectangle(10,5)\n",
        "print(\"Length = \", rect.length, \"\\nBreadth = \",rect.breadth)"
      ],
      "metadata": {
        "colab": {
          "base_uri": "https://localhost:8080/"
        },
        "id": "vBIr6SbZAyj2",
        "outputId": "44ace90a-6ff7-4bdc-8f92-15a76deeb205"
      },
      "execution_count": 254,
      "outputs": [
        {
          "output_type": "stream",
          "name": "stdout",
          "text": [
            "Length =  10 \n",
            "Breadth =  5\n"
          ]
        }
      ]
    },
    {
      "cell_type": "markdown",
      "source": [
        "## Class Variables and Instance Variables"
      ],
      "metadata": {
        "id": "M-mWOxCRBRNm"
      }
    },
    {
      "cell_type": "code",
      "source": [
        "class circle:\n",
        "  pi = 3.14       # class variable : shared among all instances of a class\n",
        "  def __init__(self,radius):\n",
        "    self.radius = radius   # instance variable : specific to each instance"
      ],
      "metadata": {
        "id": "AXXEAMa2BUYB"
      },
      "execution_count": null,
      "outputs": []
    },
    {
      "cell_type": "code",
      "source": [
        "circle_1 = circle(5)\n",
        "print(\"Radius = {}\\t pi = {}\".format(circle_1.radius,circle_1.pi))"
      ],
      "metadata": {
        "colab": {
          "base_uri": "https://localhost:8080/"
        },
        "id": "l-3zTNizCQZ1",
        "outputId": "27b41303-4a8d-46c7-d462-abc555c79d0a"
      },
      "execution_count": null,
      "outputs": [
        {
          "output_type": "stream",
          "name": "stdout",
          "text": [
            "Radius = 5\t pi = 3.14\n"
          ]
        }
      ]
    },
    {
      "cell_type": "code",
      "source": [
        "circle_2 = circle(2)\n",
        "print(\"Radius = {}\\t pi = {}\".format(circle_2.radius,circle_2.pi))"
      ],
      "metadata": {
        "colab": {
          "base_uri": "https://localhost:8080/"
        },
        "id": "lD67mecTCfxp",
        "outputId": "54550fd3-0945-42eb-f7d4-4d93b723a805"
      },
      "execution_count": null,
      "outputs": [
        {
          "output_type": "stream",
          "name": "stdout",
          "text": [
            "Radius = 2\t pi = 3.14\n"
          ]
        }
      ]
    },
    {
      "cell_type": "code",
      "source": [
        "circle.pi = 3.1436 # updating class variable\n",
        "circle_1 = circle(5)\n",
        "print(\"Radius = {}\\t pi = {}\".format(circle_1.radius,circle_1.pi))"
      ],
      "metadata": {
        "colab": {
          "base_uri": "https://localhost:8080/"
        },
        "id": "1wQYNOojCkYk",
        "outputId": "9c2ee129-6ded-4582-c4a2-7f0250e6f50e"
      },
      "execution_count": null,
      "outputs": [
        {
          "output_type": "stream",
          "name": "stdout",
          "text": [
            "Radius = 5\t pi = 3.1436\n"
          ]
        }
      ]
    },
    {
      "cell_type": "markdown",
      "source": [
        "## Adding method to the class"
      ],
      "metadata": {
        "id": "MT_73XrGRx-O"
      }
    },
    {
      "cell_type": "code",
      "source": [
        "class Rectangle:\n",
        "  def __init__(self, length, breadth):\n",
        "    self.length = length\n",
        "    self.breadth = breadth\n",
        "\n",
        "  def calc_area(self):\n",
        "    return self.length*self.breadth\n",
        "\n",
        "rect = Rectangle(10,5)\n",
        "print(\"Length = \", rect.length, \"\\nBreadth = \",rect.breadth, \"\\nArea = \",rect.calc_area())"
      ],
      "metadata": {
        "colab": {
          "base_uri": "https://localhost:8080/"
        },
        "id": "oW_RRBDkR0tm",
        "outputId": "820bc353-2091-4fd6-e4b3-a51701b0b27b"
      },
      "execution_count": null,
      "outputs": [
        {
          "output_type": "stream",
          "name": "stdout",
          "text": [
            "Length =  10 \n",
            "Breadth =  5 \n",
            "Area =  50\n"
          ]
        }
      ]
    },
    {
      "cell_type": "markdown",
      "source": [
        "## Class Method and Static Method"
      ],
      "metadata": {
        "id": "h4LeOW9RUkP5"
      }
    },
    {
      "cell_type": "code",
      "source": [
        "class circle:\n",
        "  pi = 3.14\n",
        "  def __init__(self,radius):\n",
        "    self.radius = radius\n",
        "\n",
        "  # instance method:\n",
        "  def calculate_area(self):\n",
        "    return circle.pi*self.radius\n",
        "\n",
        "  # class method - cannot access radius\n",
        "  @classmethod\n",
        "  def access_pi(cls):\n",
        "    pi = 3.1436\n",
        "    return pi\n",
        "\n",
        "  @staticmethod\n",
        "  def circle_static():\n",
        "    print(\"This is a static class\")\n",
        "\n",
        "cir = circle(5)"
      ],
      "metadata": {
        "id": "46rUCzqu-bGG",
        "outputId": "713e0f2f-8efa-4ca2-f550-42856cccf96d",
        "colab": {
          "base_uri": "https://localhost:8080/"
        }
      },
      "execution_count": 267,
      "outputs": [
        {
          "output_type": "execute_result",
          "data": {
            "text/plain": [
              "3.1436"
            ]
          },
          "metadata": {},
          "execution_count": 267
        }
      ]
    },
    {
      "cell_type": "markdown",
      "source": [
        "## Inheritance and Overriding"
      ],
      "metadata": {
        "id": "YzdHh_OBDpr9"
      }
    },
    {
      "cell_type": "code",
      "source": [
        "class shape:\n",
        "  def set_color(self,color):\n",
        "    self.color = color\n",
        "\n",
        "  def calculate_area(self):\n",
        "    pass\n",
        "\n",
        "  def color_the_shape(self):\n",
        "    color_price = {\"red\": 10, \"blue\": 15, \"green\": 5}\n",
        "    return self.calculate_area()*color_price[self.color]"
      ],
      "metadata": {
        "id": "veceY9FMDqIu"
      },
      "execution_count": 289,
      "outputs": []
    },
    {
      "cell_type": "code",
      "source": [
        "class circle(shape):   # shape is parent class and circle is derived class\n",
        "  pi = 3.14\n",
        "  def __init__(self,radius):\n",
        "    self.radius = radius\n",
        "\n",
        "  # Overriding:\n",
        "  def calculate_area(self):\n",
        "    return circle.pi*self.radius"
      ],
      "metadata": {
        "id": "TFoW1h2KKZhF"
      },
      "execution_count": 290,
      "outputs": []
    },
    {
      "cell_type": "code",
      "source": [
        "c = circle(5)\n",
        "c.set_color(\"red\")\n",
        "print(\"Circle with radius =\",c.radius, \"color =\", c.color, \"cost =\", c.color_the_shape())"
      ],
      "metadata": {
        "id": "GZy31eMkK0Zn",
        "outputId": "8e9ea30a-c7b0-4c90-90c7-29acb2fa69e5",
        "colab": {
          "base_uri": "https://localhost:8080/"
        }
      },
      "execution_count": 291,
      "outputs": [
        {
          "output_type": "stream",
          "name": "stdout",
          "text": [
            "Circle with radius = 5 color = red cost = 157.0\n"
          ]
        }
      ]
    },
    {
      "cell_type": "code",
      "source": [
        "class Rectangle(shape):\n",
        "  def __init__(self, length, breadth):\n",
        "    self.length = length\n",
        "    self.breadth = breadth\n",
        "\n",
        "  def calculate_area(self):\n",
        "    return self.length*self.breadth\n",
        "\n",
        "  def __str__(self):\n",
        "    return \"Area of rectangle = \"+str(self.calculate_area())"
      ],
      "metadata": {
        "id": "xQhFVKejK63o"
      },
      "execution_count": 292,
      "outputs": []
    },
    {
      "cell_type": "code",
      "source": [
        "r = Rectangle(5,10)\n",
        "r.set_color(\"blue\")\n",
        "print(\"Cost :\", r.color_the_shape())"
      ],
      "metadata": {
        "id": "jdPyA70dMOle",
        "outputId": "6e3f3c9d-084f-4f2b-c1ed-4e34f3e89651",
        "colab": {
          "base_uri": "https://localhost:8080/"
        }
      },
      "execution_count": 293,
      "outputs": [
        {
          "output_type": "stream",
          "name": "stdout",
          "text": [
            "Cost : 750\n"
          ]
        }
      ]
    }
  ]
}